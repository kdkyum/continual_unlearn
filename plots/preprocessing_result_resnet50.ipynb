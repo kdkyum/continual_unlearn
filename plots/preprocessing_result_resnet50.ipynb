{
 "cells": [
  {
   "cell_type": "code",
   "execution_count": 1,
   "id": "f6c3fd10",
   "metadata": {},
   "outputs": [],
   "source": [
    "import os\n",
    "import glob\n",
    "import json\n",
    "import numpy as np\n",
    "import pandas as pd\n",
    "import matplotlib.pyplot as plt\n",
    "import seaborn as sns\n",
    "from collections import defaultdict\n",
    "\n",
    "# Set plot style\n",
    "plt.style.use('seaborn-v0_8-whitegrid')\n",
    "sns.set(font_scale=1.2)\n",
    "plt.rcParams['figure.figsize'] = (14, 8)"
   ]
  },
  {
   "cell_type": "code",
   "execution_count": null,
   "id": "5121a905",
   "metadata": {},
   "outputs": [
    {
     "name": "stdout",
     "output_type": "stream",
     "text": [
      "Found methods: ['FT_continual_unlearn', 'retrain_continual_unlearn', 'NG_continual_unlearn', 'synaptag_RL_continual_unlearn', 'GA_continual_unlearn', 'SalUn_continual_unlearn', 'RL_continual_unlearn', 'synaptag_NG_continual_unlearn']\n",
      "Method FT_continual_unlearn has models: ['resnet18', 'resnet50']\n",
      "Method retrain_continual_unlearn has models: ['resnet18', 'resnet50']\n",
      "Method NG_continual_unlearn has models: ['resnet18', 'resnet50']\n",
      "Method synaptag_RL_continual_unlearn has models: ['resnet18', 'resnet50']\n",
      "Method GA_continual_unlearn has models: ['resnet18', 'resnet50']\n",
      "Method SalUn_continual_unlearn has models: ['resnet18', 'resnet50']\n",
      "Method RL_continual_unlearn has models: ['resnet18', 'resnet50']\n",
      "Method synaptag_NG_continual_unlearn has models: ['resnet18', 'resnet50']\n"
     ]
    }
   ],
   "source": [
    "# Base directory for checkpoints\n",
    "base_dir = \"/u/kdkyum/ptmp_link/workdir/continual_unlearn/checkpoints\"\n",
    "\n",
    "# Function to find all available methods with continual_unlearn suffix\n",
    "def find_methods():\n",
    "    methods = []\n",
    "    if os.path.exists(base_dir):\n",
    "        for item in os.listdir(base_dir):\n",
    "            if item.endswith(\"_continual_unlearn\") and os.path.isdir(os.path.join(base_dir, item)):\n",
    "                methods.append(item)\n",
    "    return methods\n",
    "\n",
    "# Get all methods\n",
    "methods = find_methods()\n",
    "print(f\"Found methods: {methods}\")\n",
    "\n",
    "# Identify available models for each method\n",
    "models_per_method = {}\n",
    "for method in methods:\n",
    "    method_path = os.path.join(base_dir, method)\n",
    "    if os.path.exists(method_path) and os.path.isdir(method_path):\n",
    "        models_per_method[method] = [m for m in os.listdir(method_path) if os.path.isdir(os.path.join(method_path, m))]\n",
    "        print(f\"Method {method} has models: {models_per_method[method]}\")\n",
    "    else:\n",
    "        models_per_method[method] = []\n",
    "        print(f\"Warning: Method directory not found or not a directory: {method_path}\")"
   ]
  },
  {
   "cell_type": "code",
   "execution_count": null,
   "id": "a3f0a5fe",
   "metadata": {},
   "outputs": [
    {
     "data": {
      "text/plain": [
       "'/u/kdkyum/ptmp_link/workdir/continual_unlearn/checkpoints/synaptag_NG_continual_unlearn'"
      ]
     },
     "execution_count": 5,
     "metadata": {},
     "output_type": "execute_result"
    }
   ],
   "source": [
    "# This cell might show an outdated variable or concept if 'method_dir' was specific to the old structure.\n",
    "# For example, to see models for the first method:\n",
    "if methods and methods[0] in models_per_method:\n",
    "    print(f\"Models for {methods[0]}: {models_per_method[methods[0]]}\")\n",
    "else:\n",
    "    print(\"No methods or models found to display.\")"
   ]
  },
  {
   "cell_type": "code",
   "execution_count": null,
   "id": "9e1e4806",
   "metadata": {},
   "outputs": [],
   "source": [
    "def load_evaluation_results(method, model, dataset_name):\n",
    "    \"\"\"Load evaluation results for a specific method, model, and dataset_name\"\"\"\n",
    "    results = []\n",
    "    # Path to the directory containing forget_stage subdirectories\n",
    "    path_to_stages = os.path.join(base_dir, method, model, dataset_name)\n",
    "    \n",
    "    if not os.path.exists(path_to_stages) or not os.path.isdir(path_to_stages):\n",
    "        return results\n",
    "    \n",
    "    # Get all forget stages\n",
    "    forget_stages = []\n",
    "    for stage_dir_name in os.listdir(path_to_stages):\n",
    "        stage_full_path = os.path.join(path_to_stages, stage_dir_name)\n",
    "        if os.path.isdir(stage_full_path):\n",
    "            try:\n",
    "                if '-' in stage_dir_name:\n",
    "                    begin, end = map(int, stage_dir_name.split('-'))\n",
    "                elif '_' in stage_dir_name:\n",
    "                    begin, end = map(int, stage_dir_name.split('_'))\n",
    "                else:\n",
    "                    raise ValueError(f\"Directory name format not recognized: {stage_dir_name}\")\n",
    "                forget_stages.append((begin, end, stage_dir_name, stage_full_path))\n",
    "            except ValueError as e:\n",
    "                print(f\"Skipping directory with invalid format: {stage_dir_name} in {path_to_stages} - {str(e)}\")\n",
    "    \n",
    "    forget_stages.sort(key=lambda x: x[1]) # Sort by end class\n",
    "    \n",
    "    for begin, end, stage_dir_name, stage_full_path in forget_stages:\n",
    "        eval_file = os.path.join(stage_full_path, 'evaluation_results.json')\n",
    "        if os.path.exists(eval_file):\n",
    "            try:\n",
    "                with open(eval_file, 'r') as f:\n",
    "                    data = json.load(f)\n",
    "                    results.append({\n",
    "                        'method': method,\n",
    "                        'model': model,\n",
    "                        'dataset': dataset_name,\n",
    "                        'forget_class_begin': begin,\n",
    "                        'forget_class_end': end,\n",
    "                        'data': data,\n",
    "                    })\n",
    "            except Exception as e:\n",
    "                print(f\"Error loading {eval_file}: {e}\")\n",
    "    return results\n",
    "\n",
    "def extract_metrics(results):\n",
    "    \"\"\"Extract key metrics from loaded results into a structured DataFrame\"\"\"\n",
    "    metrics_data = []\n",
    "    \n",
    "    for result in results:\n",
    "        method = result['method']\n",
    "        method_display = method.replace('_continual_unlearn', '')\n",
    "        model_name = result['model']\n",
    "        dataset_name = result['dataset']\n",
    "        forget_begin = result['forget_class_begin']\n",
    "        forget_end = result['forget_class_end']\n",
    "        data = result['data']\n",
    "        \n",
    "        metrics = {\n",
    "            'method': method_display,\n",
    "            'model': model_name,\n",
    "            'dataset': dataset_name,\n",
    "            'forget_class_begin': forget_begin,\n",
    "            'forget_class_end': forget_end,\n",
    "            'classes_forgotten': forget_end - forget_begin,\n",
    "            'unlearning_time': data.get('unlearning_time', None)\n",
    "        }\n",
    "        \n",
    "        if 'accuracy' in data:\n",
    "            if isinstance(data['accuracy'], dict):\n",
    "                for key, value in data['accuracy'].items():\n",
    "                    metrics[f'accuracy_{key}'] = value\n",
    "            else:\n",
    "                metrics['accuracy'] = data['accuracy']\n",
    "\n",
    "        if 'class_wise_accuracy' in data and isinstance(data['class_wise_accuracy'], list):\n",
    "            for x in data[\"class_wise_accuracy\"]:\n",
    "                metrics[f'{x[\"dataset\"]}_accuracy_class_{x[\"class\"]}'] = x.get('accuracy', None)\n",
    "        \n",
    "        if 'SVC_MIA_forget_efficacy' in data:\n",
    "            for key, value in data['SVC_MIA_forget_efficacy'].items():\n",
    "                metrics[f'mia_forget_{key}'] = value\n",
    "                \n",
    "        metrics_data.append(metrics)\n",
    "    \n",
    "    return pd.DataFrame(metrics_data)"
   ]
  },
  {
   "cell_type": "code",
   "execution_count": null,
   "id": "cdfaf1d3",
   "metadata": {},
   "outputs": [
    {
     "name": "stdout",
     "output_type": "stream",
     "text": [
      "Skipping directory with invalid format: masks - Directory name format not recognized: masks\n",
      "Loaded 56 evaluation results\n",
      "Methods: ['FT' 'retrain' 'NG' 'synaptag_RL' 'GA' 'RL' 'synaptag_NG']\n",
      "Datasets: ['cifar10']\n",
      "Skipping directory with invalid format: masks - Directory name format not recognized: masks\n",
      "Loaded 152 evaluation results\n",
      "Methods: ['FT' 'retrain' 'NG' 'synaptag_RL' 'GA' 'SalUn' 'RL' 'synaptag_NG']\n",
      "Datasets: ['cifar100']\n"
     ]
    }
   ],
   "source": [
    "# Define the dataset names (e.g., cifar10, cifar100) to process\n",
    "dataset_names_to_process = [\"cifar10\", \"cifar100\"]\n",
    "\n",
    "for dataset_name in dataset_names_to_process:\n",
    "    print(f\"\\nProcessing dataset type: {dataset_name}...\")\n",
    "    all_results_for_dataset_type = []\n",
    "    for method in methods:\n",
    "        if method in models_per_method:\n",
    "            for model in models_per_method[method]:\n",
    "                current_results = load_evaluation_results(method, model, dataset_name)\n",
    "                if current_results:\n",
    "                    all_results_for_dataset_type.extend(current_results)\n",
    "        else:\n",
    "            print(f\"  Skipping method {method} as it's not in models_per_method list.\")\n",
    "\n",
    "    df = extract_metrics(all_results_for_dataset_type)\n",
    "\n",
    "    print(f\"--- Summary for {dataset_name} ---\")\n",
    "    if not df.empty:\n",
    "        print(f\"Loaded {len(df)} evaluation entries.\")\n",
    "        print(f\"Methods found: {df['method'].unique()}\")\n",
    "        print(f\"Models found: {df['model'].unique()}\")\n",
    "        print(f\"Dataset names processed: {df['dataset'].unique()}\")\n",
    "        df.to_csv(f\"eval_results_for_{dataset_name}.csv\", index=False)\n",
    "        print(f\"Saved results to eval_results_for_{dataset_name}.csv\")\n",
    "    else:\n",
    "        print(f\"No evaluation entries loaded for {dataset_name}.\")"
   ]
  },
  {
   "cell_type": "code",
   "execution_count": null,
   "id": "f1888313",
   "metadata": {},
   "outputs": [],
   "source": [
    "# You can inspect a sample of the DataFrame if needed for one of the datasets, e.g., the last one processed.\n",
    "if 'df' in locals() and not df.empty:\n",
    "    print(\"\\nSample of the last processed DataFrame:\")\n",
    "    print(df.head())\n",
    "    print(\"\\nColumns in the DataFrame:\")\n",
    "    print(df.columns.tolist())\n",
    "else:\n",
    "    print(\"\\nNo DataFrame generated or DataFrame is empty.\")"
   ]
  }
 ],
 "metadata": {
  "kernelspec": {
   "display_name": "Python 3",
   "language": "python",
   "name": "python3"
  },
  "language_info": {
   "codemirror_mode": {
    "name": "ipython",
    "version": 3
   },
   "file_extension": ".py",
   "mimetype": "text/x-python",
   "name": "python",
   "nbconvert_exporter": "python",
   "pygments_lexer": "ipython3",
   "version": "3.10.16"
  }
 },
 "nbformat": 4,
 "nbformat_minor": 5
}
